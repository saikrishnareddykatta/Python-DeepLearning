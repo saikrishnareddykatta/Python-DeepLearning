{
  "nbformat": 4,
  "nbformat_minor": 0,
  "metadata": {
    "colab": {
      "name": "DL ICP 5 task 3.ipynb",
      "provenance": [],
      "collapsed_sections": []
    },
    "kernelspec": {
      "name": "python3",
      "display_name": "Python 3"
    },
    "accelerator": "GPU"
  },
  "cells": [
    {
      "cell_type": "code",
      "metadata": {
        "id": "HPuZ3INMsXoL",
        "colab_type": "code",
        "colab": {
          "base_uri": "https://localhost:8080/",
          "height": 785
        },
        "outputId": "cb92e470-0b0d-49d3-e2a8-280841aca966"
      },
      "source": [
        "import pandas as pd # data processing, CSV file I/O (e.g. pd.read_csv)\n",
        "from keras.preprocessing.text import Tokenizer\n",
        "from keras.preprocessing.sequence import pad_sequences\n",
        "from keras.models import Sequential\n",
        "from keras.layers import Dense, Embedding, LSTM, SpatialDropout1D\n",
        "from sklearn.model_selection import train_test_split\n",
        "from keras.utils.np_utils import to_categorical\n",
        "import re\n",
        "from keras.engine.saving import load_model\n",
        "from sklearn.preprocessing import LabelEncoder\n",
        "import numpy as np\n",
        "\n",
        "data = pd.read_csv('/spam.csv',encoding=\"latin-1\")\n",
        "\n",
        "data = data[['v2','v1']]\n",
        "print(data)\n",
        "data['v2'] = data['v2'].apply(lambda x: x.lower())\n",
        "data['v2'] = data['v2'].apply((lambda x: re.sub('[^a-zA-z0-9\\s]', '', x)))\n",
        "\n",
        "for idx, row in data.iterrows():\n",
        "    row[0] = row[0].replace('rt', ' ')\n",
        "\n",
        "max_fatures = 2000\n",
        "tokenizer = Tokenizer(num_words=max_fatures, split=' ')\n",
        "tokenizer.fit_on_texts(data['v2'].values)\n",
        "X = tokenizer.texts_to_sequences(data['v2'].values)\n",
        "\n",
        "X = pad_sequences(X)\n",
        "\n",
        "embed_dim = 128\n",
        "lstm_out = 196\n",
        "def createmodel():\n",
        "    model = Sequential()\n",
        "    model.add(Embedding(max_fatures, embed_dim,input_length = X.shape[1]))\n",
        "    model.add(LSTM(lstm_out, dropout=0.2, recurrent_dropout=0.2))\n",
        "    model.add(Dense(2,activation='softmax'))\n",
        "    model.compile(loss = 'categorical_crossentropy', optimizer='adam',metrics = ['accuracy'])\n",
        "    return model\n",
        "labelencoder = LabelEncoder()\n",
        "integer_encoded = labelencoder.fit_transform(data['v1'])\n",
        "print(integer_encoded)\n",
        "print(data['v1'])\n",
        "y = to_categorical(integer_encoded)\n",
        "X_train, X_test, Y_train, Y_test = train_test_split(X,y, test_size = 0.33, random_state = 42)\n",
        "batch_size = 32\n",
        "model = createmodel()\n",
        "model.fit(X_train, Y_train, epochs = 5, batch_size=batch_size, verbose = 2)\n",
        "score,acc = model.evaluate(X_test,Y_test,verbose=2,batch_size=batch_size)\n",
        "print('score',score)\n",
        "print('accuracy',acc)\n",
        "print('Model Metrics Names',model.metrics_names)\n",
        "model.save('my_model1.h5')\n",
        "model1 = load_model('my_model1.h5')\n",
        "\n",
        "sentences = np.array([\"This is the 2nd time we have tried 2 contact u.\"])\n",
        "\n",
        "prediction=tokenizer.texts_to_sequences(sentences)\n",
        "prediction=pad_sequences(prediction,maxlen=152)\n",
        "model1.compile(loss = 'categorical_crossentropy', optimizer='adam',metrics = ['accuracy'])\n",
        "print(model1.predict(prediction))"
      ],
      "execution_count": 1,
      "outputs": [
        {
          "output_type": "stream",
          "text": [
            "Using TensorFlow backend.\n"
          ],
          "name": "stderr"
        },
        {
          "output_type": "stream",
          "text": [
            "                                                     v2    v1\n",
            "0     Go until jurong point, crazy.. Available only ...   ham\n",
            "1                         Ok lar... Joking wif u oni...   ham\n",
            "2     Free entry in 2 a wkly comp to win FA Cup fina...  spam\n",
            "3     U dun say so early hor... U c already then say...   ham\n",
            "4     Nah I don't think he goes to usf, he lives aro...   ham\n",
            "...                                                 ...   ...\n",
            "5567  This is the 2nd time we have tried 2 contact u...  spam\n",
            "5568              Will Ì_ b going to esplanade fr home?   ham\n",
            "5569  Pity, * was in mood for that. So...any other s...   ham\n",
            "5570  The guy did some bitching but I acted like i'd...   ham\n",
            "5571                         Rofl. Its true to its name   ham\n",
            "\n",
            "[5572 rows x 2 columns]\n",
            "[0 0 1 ... 0 0 0]\n",
            "0        ham\n",
            "1        ham\n",
            "2       spam\n",
            "3        ham\n",
            "4        ham\n",
            "        ... \n",
            "5567    spam\n",
            "5568     ham\n",
            "5569     ham\n",
            "5570     ham\n",
            "5571     ham\n",
            "Name: v1, Length: 5572, dtype: object\n"
          ],
          "name": "stdout"
        },
        {
          "output_type": "stream",
          "text": [
            "/usr/local/lib/python3.6/dist-packages/tensorflow/python/framework/indexed_slices.py:434: UserWarning: Converting sparse IndexedSlices to a dense Tensor of unknown shape. This may consume a large amount of memory.\n",
            "  \"Converting sparse IndexedSlices to a dense Tensor of unknown shape. \"\n"
          ],
          "name": "stderr"
        },
        {
          "output_type": "stream",
          "text": [
            "Epoch 1/5\n",
            " - 39s - loss: 0.1746 - accuracy: 0.9387\n",
            "Epoch 2/5\n",
            " - 37s - loss: 0.0420 - accuracy: 0.9874\n",
            "Epoch 3/5\n",
            " - 37s - loss: 0.0208 - accuracy: 0.9928\n",
            "Epoch 4/5\n",
            " - 37s - loss: 0.0163 - accuracy: 0.9962\n",
            "Epoch 5/5\n",
            " - 37s - loss: 0.0078 - accuracy: 0.9981\n",
            "score 0.0881217713401941\n",
            "accuracy 0.9820554852485657\n",
            "Model Metrics Names ['loss', 'accuracy']\n",
            "[[0.9855796  0.01442035]]\n"
          ],
          "name": "stdout"
        }
      ]
    }
  ]
}