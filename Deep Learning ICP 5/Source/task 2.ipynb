{
  "nbformat": 4,
  "nbformat_minor": 0,
  "metadata": {
    "colab": {
      "name": "DL ICP 5 task 2.ipynb",
      "provenance": [],
      "collapsed_sections": []
    },
    "kernelspec": {
      "name": "python3",
      "display_name": "Python 3"
    },
    "accelerator": "GPU"
  },
  "cells": [
    {
      "cell_type": "code",
      "metadata": {
        "id": "wRu27bk5r-jV",
        "colab_type": "code",
        "colab": {
          "base_uri": "https://localhost:8080/",
          "height": 1000
        },
        "outputId": "ed7f73aa-513a-4f21-cb3a-66c3aa2091f9"
      },
      "source": [
        "import pandas as pd # data processing, CSV file I/O (e.g. pd.read_csv)\n",
        "from keras.preprocessing.text import Tokenizer\n",
        "from keras.preprocessing.sequence import pad_sequences\n",
        "from keras.models import Sequential\n",
        "from keras.layers import Dense, Embedding, LSTM, SpatialDropout1D\n",
        "from matplotlib import pyplot\n",
        "from sklearn.model_selection import train_test_split\n",
        "from keras.utils.np_utils import to_categorical\n",
        "import re\n",
        "from sklearn.preprocessing import LabelEncoder\n",
        "data = pd.read_csv('/content/Sentiment.csv')\n",
        "# Keeping only the neccessary columns\n",
        "data = data[['text','sentiment']]\n",
        "data['text'] = data['text'].apply(lambda x: x.lower())\n",
        "data['text'] = data['text'].apply((lambda x: re.sub('[^a-zA-z0-9\\s]', '', x)))\n",
        "for idx, row in data.iterrows():\n",
        "    row[0] = row[0].replace('rt', ' ')\n",
        "max_fatures = 2000\n",
        "tokenizer = Tokenizer(num_words=max_fatures, split=' ')\n",
        "tokenizer.fit_on_texts(data['text'].values)\n",
        "X = tokenizer.texts_to_sequences(data['text'].values)\n",
        "\n",
        "X = pad_sequences(X)\n",
        "\n",
        "embed_dim = 128\n",
        "lstm_out = 196\n",
        "def createmodel():\n",
        "    model = Sequential()\n",
        "    model.add(Embedding(max_fatures, embed_dim,input_length = X.shape[1]))\n",
        "    model.add(LSTM(lstm_out, dropout=0.2, recurrent_dropout=0.2))\n",
        "    model.add(Dense(3,activation='softmax'))\n",
        "    model.compile(loss = 'categorical_crossentropy', optimizer='adam',metrics = ['accuracy'])\n",
        "    return model\n",
        "labelencoder = LabelEncoder()\n",
        "integer_encoded = labelencoder.fit_transform(data['sentiment'])\n",
        "print(integer_encoded)\n",
        "print(data['sentiment'])\n",
        "y = to_categorical(integer_encoded)\n",
        "X_train, X_test, Y_train, Y_test = train_test_split(X,y, test_size = 0.33, random_state = 42)\n",
        "from keras.wrappers.scikit_learn import KerasClassifier\n",
        "model = KerasClassifier(build_fn=createmodel,verbose=2)\n",
        "batch_size= [10, 20]\n",
        "epochs = [1, 2]\n",
        "param_grid= {'batch_size':batch_size, 'epochs':epochs}\n",
        "from sklearn.model_selection import GridSearchCV\n",
        "grid  = GridSearchCV(estimator=model, param_grid=param_grid)\n",
        "grid_result= grid.fit(X_train, y=Y_train)\n",
        "# summarize results\n",
        "print(\"Best: %f using %s\" % (grid_result.best_score_, grid_result.best_params_))"
      ],
      "execution_count": 1,
      "outputs": [
        {
          "output_type": "stream",
          "text": [
            "Using TensorFlow backend.\n"
          ],
          "name": "stderr"
        },
        {
          "output_type": "stream",
          "text": [
            "[1 2 1 ... 2 0 2]\n",
            "0         Neutral\n",
            "1        Positive\n",
            "2         Neutral\n",
            "3        Positive\n",
            "4        Positive\n",
            "           ...   \n",
            "13866    Negative\n",
            "13867    Positive\n",
            "13868    Positive\n",
            "13869    Negative\n",
            "13870    Positive\n",
            "Name: sentiment, Length: 13871, dtype: object\n"
          ],
          "name": "stdout"
        },
        {
          "output_type": "stream",
          "text": [
            "/usr/local/lib/python3.6/dist-packages/tensorflow/python/framework/indexed_slices.py:434: UserWarning: Converting sparse IndexedSlices to a dense Tensor of unknown shape. This may consume a large amount of memory.\n",
            "  \"Converting sparse IndexedSlices to a dense Tensor of unknown shape. \"\n"
          ],
          "name": "stderr"
        },
        {
          "output_type": "stream",
          "text": [
            "Epoch 1/1\n",
            " - 46s - loss: 0.8308 - accuracy: 0.6395\n",
            "Epoch 1/1\n",
            " - 44s - loss: 0.8278 - accuracy: 0.6433\n",
            "Epoch 1/1\n",
            " - 43s - loss: 0.8263 - accuracy: 0.6427\n",
            "Epoch 1/1\n",
            " - 43s - loss: 0.8324 - accuracy: 0.6433\n",
            "Epoch 1/1\n",
            " - 43s - loss: 0.8286 - accuracy: 0.6476\n",
            "Epoch 1/2\n",
            " - 43s - loss: 0.8340 - accuracy: 0.6438\n",
            "Epoch 2/2\n",
            " - 44s - loss: 0.6928 - accuracy: 0.7078\n",
            "Epoch 1/2\n",
            " - 44s - loss: 0.8209 - accuracy: 0.6516\n",
            "Epoch 2/2\n",
            " - 44s - loss: 0.6844 - accuracy: 0.7129\n",
            "Epoch 1/2\n",
            " - 43s - loss: 0.8253 - accuracy: 0.6464\n",
            "Epoch 2/2\n",
            " - 45s - loss: 0.6799 - accuracy: 0.7148\n",
            "Epoch 1/2\n",
            " - 46s - loss: 0.8327 - accuracy: 0.6459\n",
            "Epoch 2/2\n",
            " - 42s - loss: 0.6856 - accuracy: 0.7048\n",
            "Epoch 1/2\n",
            " - 45s - loss: 0.8247 - accuracy: 0.6463\n",
            "Epoch 2/2\n",
            " - 47s - loss: 0.6768 - accuracy: 0.7178\n",
            "Epoch 1/1\n",
            " - 23s - loss: 0.8387 - accuracy: 0.6454\n",
            "Epoch 1/1\n",
            " - 24s - loss: 0.8429 - accuracy: 0.6383\n",
            "Epoch 1/1\n",
            " - 23s - loss: 0.8416 - accuracy: 0.6356\n",
            "Epoch 1/1\n",
            " - 23s - loss: 0.8390 - accuracy: 0.6360\n",
            "Epoch 1/1\n",
            " - 23s - loss: 0.8331 - accuracy: 0.6417\n",
            "Epoch 1/2\n",
            " - 22s - loss: 0.8346 - accuracy: 0.6443\n",
            "Epoch 2/2\n",
            " - 22s - loss: 0.6896 - accuracy: 0.7089\n",
            "Epoch 1/2\n",
            " - 24s - loss: 0.8413 - accuracy: 0.6373\n",
            "Epoch 2/2\n",
            " - 24s - loss: 0.6946 - accuracy: 0.7077\n",
            "Epoch 1/2\n",
            " - 25s - loss: 0.8385 - accuracy: 0.6400\n",
            "Epoch 2/2\n",
            " - 25s - loss: 0.6876 - accuracy: 0.7112\n",
            "Epoch 1/2\n",
            " - 25s - loss: 0.8400 - accuracy: 0.6390\n",
            "Epoch 2/2\n",
            " - 24s - loss: 0.6820 - accuracy: 0.7108\n",
            "Epoch 1/2\n",
            " - 25s - loss: 0.8295 - accuracy: 0.6441\n",
            "Epoch 2/2\n",
            " - 23s - loss: 0.6715 - accuracy: 0.7188\n",
            "Epoch 1/2\n",
            " - 30s - loss: 0.8204 - accuracy: 0.6468\n",
            "Epoch 2/2\n",
            " - 30s - loss: 0.6790 - accuracy: 0.7113\n",
            "Best: 0.679974 using {'batch_size': 20, 'epochs': 2}\n"
          ],
          "name": "stdout"
        }
      ]
    }
  ]
}