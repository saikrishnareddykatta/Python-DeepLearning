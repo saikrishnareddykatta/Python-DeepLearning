{
  "nbformat": 4,
  "nbformat_minor": 0,
  "metadata": {
    "colab": {
      "name": "task1.ipynb",
      "provenance": [],
      "collapsed_sections": [],
      "toc_visible": true
    },
    "kernelspec": {
      "name": "python3",
      "display_name": "Python 3"
    }
  },
  "cells": [
    {
      "cell_type": "code",
      "metadata": {
        "id": "nPzFLodVT4Aw",
        "colab_type": "code",
        "colab": {
          "base_uri": "https://localhost:8080/",
          "height": 462
        },
        "outputId": "41cc9a2b-32bf-40ca-f248-bc6e3006f10c"
      },
      "source": [
        "from keras.models import Sequential\n",
        "from keras import layers\n",
        "from keras.preprocessing.text import Tokenizer\n",
        "import pandas as pd\n",
        "import numpy as np\n",
        "from sklearn import preprocessing\n",
        "from sklearn.model_selection import train_test_split\n",
        "\n",
        "df = pd.read_csv('imdb_master.csv',encoding='latin-1')\n",
        "print(df.head())\n",
        "sentences = df['review'].values\n",
        "y = df['label'].values\n",
        "# checking the unique values in target\n",
        "print(np.unique(y))\n",
        "\n",
        "#tokenizing data\n",
        "tokenizer = Tokenizer(num_words=2000)\n",
        "tokenizer.fit_on_texts(sentences)\n",
        "#getting the vocabulary of data\n",
        "sentences = tokenizer.texts_to_matrix(sentences)\n",
        "print(\"Done with Tokenizing\")\n",
        "\n",
        "# Labelencoding for converting text to numeric data\n",
        "le = preprocessing.LabelEncoder()\n",
        "y = le.fit_transform(y)\n",
        "X_train, X_test, y_train, y_test = train_test_split(sentences, y, test_size=0.25, random_state=1000)\n",
        "print(\"Done with Label Encoding and Training\")\n",
        "\n",
        "# Number of features\n",
        "model = Sequential()\n",
        "# 1. Input dimension is not defined\n",
        "input_dim = 2000\n",
        "model.add(layers.Dense(300,input_dim=input_dim, activation='relu'))\n",
        "# Output labels are 3 as in the input provided we have only NEG, POS and UNSUP\n",
        "# The activation will be softmax instead of sigmoid because sigmoid can be used for utmost 2 labels whereas\n",
        "# softmax can be used for any number of labels. Here for the output we have three labels\n",
        "model.add(layers.Dense(3, activation='softmax'))\n",
        "# model.add(layers.Dense(3, activation='sigmoid'))\n",
        "model.compile(loss='sparse_categorical_crossentropy',optimizer='adam',metrics=['acc'])\n",
        "history=model.fit(X_train,y_train, epochs=5, verbose=True, validation_data=(X_test,y_test), batch_size=256)\n",
        "loss, accuracy = model.evaluate(X_test, y_test)\n",
        "print(\"Loss: {}\".format(loss))\n",
        "print(\"Accuracy: {}\".format(accuracy))"
      ],
      "execution_count": 18,
      "outputs": [
        {
          "output_type": "stream",
          "text": [
            "   Unnamed: 0  type  ... label         file\n",
            "0           0  test  ...   neg      0_2.txt\n",
            "1           1  test  ...   neg  10000_4.txt\n",
            "2           2  test  ...   neg  10001_1.txt\n",
            "3           3  test  ...   neg  10002_3.txt\n",
            "4           4  test  ...   neg  10003_3.txt\n",
            "\n",
            "[5 rows x 5 columns]\n",
            "['neg' 'pos' 'unsup']\n",
            "Done with tokenizing\n",
            "done with label encoding and training\n",
            "Train on 75000 samples, validate on 25000 samples\n",
            "Epoch 1/5\n",
            "75000/75000 [==============================] - 7s 98us/step - loss: 0.8814 - acc: 0.5045 - val_loss: 0.8437 - val_acc: 0.5136\n",
            "Epoch 2/5\n",
            "75000/75000 [==============================] - 7s 98us/step - loss: 0.7912 - acc: 0.5779 - val_loss: 0.8410 - val_acc: 0.5222\n",
            "Epoch 3/5\n",
            "75000/75000 [==============================] - 7s 99us/step - loss: 0.6891 - acc: 0.6763 - val_loss: 0.8884 - val_acc: 0.5176\n",
            "Epoch 4/5\n",
            "75000/75000 [==============================] - 7s 99us/step - loss: 0.4995 - acc: 0.8152 - val_loss: 0.9598 - val_acc: 0.5127\n",
            "Epoch 5/5\n",
            "75000/75000 [==============================] - 7s 100us/step - loss: 0.2908 - acc: 0.9257 - val_loss: 1.0705 - val_acc: 0.5024\n",
            "25000/25000 [==============================] - 2s 65us/step\n",
            "LOSS: 1.0704800652503967\n",
            "ACCURACY: 0.5024399757385254\n"
          ],
          "name": "stdout"
        }
      ]
    },
    {
      "cell_type": "code",
      "metadata": {
        "id": "xAqnavgta_fM",
        "colab_type": "code",
        "colab": {}
      },
      "source": [
        ""
      ],
      "execution_count": null,
      "outputs": []
    }
  ]
}