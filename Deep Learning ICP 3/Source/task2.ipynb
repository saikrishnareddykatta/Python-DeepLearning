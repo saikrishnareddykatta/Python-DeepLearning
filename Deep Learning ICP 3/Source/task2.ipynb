{
  "nbformat": 4,
  "nbformat_minor": 0,
  "metadata": {
    "colab": {
      "name": "task2.ipynb",
      "provenance": [],
      "collapsed_sections": []
    },
    "kernelspec": {
      "name": "python3",
      "display_name": "Python 3"
    },
    "accelerator": "GPU"
  },
  "cells": [
    {
      "cell_type": "code",
      "metadata": {
        "id": "1y20nNLNUod3",
        "colab_type": "code",
        "colab": {
          "base_uri": "https://localhost:8080/",
          "height": 445
        },
        "outputId": "a19c311a-17a1-4878-d42a-34ed19a2fc3d"
      },
      "source": [
        "from keras.models import Sequential\n",
        "from keras import layers\n",
        "from keras.preprocessing.text import Tokenizer\n",
        "import pandas as pd\n",
        "from sklearn import preprocessing\n",
        "from sklearn.model_selection import train_test_split\n",
        "from keras.layers.embeddings import Embedding\n",
        "from keras.layers import Flatten\n",
        "\n",
        "df = pd.read_csv('/content/imdb_master.csv',encoding='latin-1')\n",
        "print(df.head())\n",
        "sentences = df['review'].values\n",
        "y = df['label'].values\n",
        "\n",
        "max_review_len = max([len(s.split()) for s in sentences])\n",
        "#tokenizing data\n",
        "tokenizer = Tokenizer(num_words=2470)\n",
        "tokenizer.fit_on_texts(sentences)\n",
        "#getting the vocabulary of data\n",
        "sentences = tokenizer.texts_to_matrix(sentences)\n",
        "\n",
        "# Labelencoding for converting text to numeric data\n",
        "le = preprocessing.LabelEncoder()\n",
        "y = le.fit_transform(y)\n",
        "X_train, X_test, y_train, y_test = train_test_split(sentences, y, test_size=0.25, random_state=1000)\n",
        "\n",
        "# Number of features\n",
        "model = Sequential()\n",
        "input_dim = 2470\n",
        "model.add(Embedding(input_dim, 50, input_length=max_review_len))\n",
        "model.add(Flatten())\n",
        "model.add(layers.Dense(300,input_dim=input_dim, activation='relu'))\n",
        "model.add(layers.Dense(3, activation='softmax'))\n",
        "model.compile(loss='sparse_categorical_crossentropy',optimizer='adam',metrics=['acc'])\n",
        "history=model.fit(X_train,y_train, epochs=5, verbose=True, validation_data=(X_test,y_test), batch_size=256)\n",
        "loss, accuracy = model.evaluate(X_test, y_test)\n",
        "print(\"Loss: {}\".format(loss))\n",
        "print(\"Accuracy: {}\".format(accuracy))\n"
      ],
      "execution_count": 4,
      "outputs": [
        {
          "output_type": "stream",
          "text": [
            "   Unnamed: 0  type  ... label         file\n",
            "0           0  test  ...   neg      0_2.txt\n",
            "1           1  test  ...   neg  10000_4.txt\n",
            "2           2  test  ...   neg  10001_1.txt\n",
            "3           3  test  ...   neg  10002_3.txt\n",
            "4           4  test  ...   neg  10003_3.txt\n",
            "\n",
            "[5 rows x 5 columns]\n"
          ],
          "name": "stdout"
        },
        {
          "output_type": "stream",
          "text": [
            "/usr/local/lib/python3.6/dist-packages/tensorflow/python/framework/indexed_slices.py:434: UserWarning: Converting sparse IndexedSlices to a dense Tensor of unknown shape. This may consume a large amount of memory.\n",
            "  \"Converting sparse IndexedSlices to a dense Tensor of unknown shape. \"\n"
          ],
          "name": "stderr"
        },
        {
          "output_type": "stream",
          "text": [
            "Train on 75000 samples, validate on 25000 samples\n",
            "Epoch 1/5\n",
            "75000/75000 [==============================] - 16s 214us/step - loss: 0.9834 - acc: 0.4952 - val_loss: 0.8478 - val_acc: 0.5057\n",
            "Epoch 2/5\n",
            "75000/75000 [==============================] - 16s 213us/step - loss: 0.8258 - acc: 0.5289 - val_loss: 0.8320 - val_acc: 0.5193\n",
            "Epoch 3/5\n",
            "75000/75000 [==============================] - 16s 213us/step - loss: 0.7972 - acc: 0.5561 - val_loss: 0.8317 - val_acc: 0.5141\n",
            "Epoch 4/5\n",
            "75000/75000 [==============================] - 16s 213us/step - loss: 0.7757 - acc: 0.5750 - val_loss: 0.8360 - val_acc: 0.5220\n",
            "Epoch 5/5\n",
            "75000/75000 [==============================] - 16s 213us/step - loss: 0.7496 - acc: 0.5983 - val_loss: 0.8620 - val_acc: 0.5140\n",
            "25000/25000 [==============================] - 2s 76us/step\n",
            "LOSS: 0.8620229494094849\n",
            "ACCURACY: 0.5139999985694885\n"
          ],
          "name": "stdout"
        }
      ]
    }
  ]
}