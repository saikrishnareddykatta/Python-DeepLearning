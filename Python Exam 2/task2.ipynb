{
  "nbformat": 4,
  "nbformat_minor": 0,
  "metadata": {
    "colab": {
      "name": "task2.ipynb",
      "provenance": [],
      "collapsed_sections": []
    },
    "kernelspec": {
      "name": "python3",
      "display_name": "Python 3"
    },
    "accelerator": "GPU"
  },
  "cells": [
    {
      "cell_type": "code",
      "metadata": {
        "id": "zpr5ioODSF0m",
        "colab_type": "code",
        "colab": {}
      },
      "source": [
        "from sklearn.feature_extraction.text import TfidfVectorizer\n",
        "from keras.preprocessing import sequence\n",
        "from sklearn.feature_extraction.text import TfidfVectorizer\n",
        "import numpy as np\n",
        "import matplotlib.pyplot as plt\n",
        "from keras.layers import Dense, Embedding\n",
        "from keras.layers import LSTM\n",
        "from sklearn.datasets import fetch_20newsgroups\n",
        "from keras.models import Sequential"
      ],
      "execution_count": 61,
      "outputs": []
    },
    {
      "cell_type": "code",
      "metadata": {
        "id": "E7CR64ixljRC",
        "colab_type": "code",
        "colab": {
          "base_uri": "https://localhost:8080/",
          "height": 357
        },
        "outputId": "d30da02b-87d0-4847-d350-f0376bb0be1f"
      },
      "source": [
        "data = fetch_20newsgroups(subset='train')\n",
        "data.target_names"
      ],
      "execution_count": 62,
      "outputs": [
        {
          "output_type": "execute_result",
          "data": {
            "text/plain": [
              "['alt.atheism',\n",
              " 'comp.graphics',\n",
              " 'comp.os.ms-windows.misc',\n",
              " 'comp.sys.ibm.pc.hardware',\n",
              " 'comp.sys.mac.hardware',\n",
              " 'comp.windows.x',\n",
              " 'misc.forsale',\n",
              " 'rec.autos',\n",
              " 'rec.motorcycles',\n",
              " 'rec.sport.baseball',\n",
              " 'rec.sport.hockey',\n",
              " 'sci.crypt',\n",
              " 'sci.electronics',\n",
              " 'sci.med',\n",
              " 'sci.space',\n",
              " 'soc.religion.christian',\n",
              " 'talk.politics.guns',\n",
              " 'talk.politics.mideast',\n",
              " 'talk.politics.misc',\n",
              " 'talk.religion.misc']"
            ]
          },
          "metadata": {
            "tags": []
          },
          "execution_count": 62
        }
      ]
    },
    {
      "cell_type": "code",
      "metadata": {
        "id": "oHOjJ9BfNkJP",
        "colab_type": "code",
        "colab": {}
      },
      "source": [
        "max_features = 20000\n",
        "batch_size = 32\n",
        "k=['alt.atheism','rec.autos']\n",
        "train_data = fetch_20newsgroups(subset='train', categories=k, random_state=32)\n",
        "test_data = fetch_20newsgroups(subset='test',categories=k, random_state=32)"
      ],
      "execution_count": 63,
      "outputs": []
    },
    {
      "cell_type": "code",
      "metadata": {
        "id": "8Q-CfAMuQM6F",
        "colab_type": "code",
        "colab": {}
      },
      "source": [
        "train_target = train_data.target"
      ],
      "execution_count": 64,
      "outputs": []
    },
    {
      "cell_type": "code",
      "metadata": {
        "id": "Na69yRAZSMxw",
        "colab_type": "code",
        "colab": {}
      },
      "source": [
        "test_target = test_data.target"
      ],
      "execution_count": 65,
      "outputs": []
    },
    {
      "cell_type": "code",
      "metadata": {
        "id": "JexJr3xkp0AQ",
        "colab_type": "code",
        "colab": {}
      },
      "source": [
        "\n",
        "vectorizer = TfidfVectorizer(min_df=0.01, max_df=0.95)\n",
        "train_data = vectorizer.fit_transform(train_data.data)\n",
        "test_data = vectorizer.transform(test_data.data)\n",
        "train_data = train_data.todense()\n",
        "test_data = test_data.todense()"
      ],
      "execution_count": 66,
      "outputs": []
    },
    {
      "cell_type": "code",
      "metadata": {
        "id": "R1oNSvbOpwUJ",
        "colab_type": "code",
        "colab": {
          "base_uri": "https://localhost:8080/",
          "height": 34
        },
        "outputId": "1561a5cf-e357-4dc3-8379-eb2eb3a5c256"
      },
      "source": [
        "train_data.shape"
      ],
      "execution_count": 67,
      "outputs": [
        {
          "output_type": "execute_result",
          "data": {
            "text/plain": [
              "(1074, 2380)"
            ]
          },
          "metadata": {
            "tags": []
          },
          "execution_count": 67
        }
      ]
    },
    {
      "cell_type": "code",
      "metadata": {
        "id": "nSCouLyZp1oh",
        "colab_type": "code",
        "colab": {
          "base_uri": "https://localhost:8080/",
          "height": 34
        },
        "outputId": "19ce9ecc-6243-4cbe-8180-bc1fcc354e52"
      },
      "source": [
        "test_data.shape"
      ],
      "execution_count": 68,
      "outputs": [
        {
          "output_type": "execute_result",
          "data": {
            "text/plain": [
              "(715, 2380)"
            ]
          },
          "metadata": {
            "tags": []
          },
          "execution_count": 68
        }
      ]
    },
    {
      "cell_type": "code",
      "metadata": {
        "id": "D53ZZopwqCKa",
        "colab_type": "code",
        "colab": {
          "base_uri": "https://localhost:8080/",
          "height": 34
        },
        "outputId": "62d8411d-ac2b-40b6-c12e-8f12c9edf3f5"
      },
      "source": [
        "train_target.shape"
      ],
      "execution_count": 69,
      "outputs": [
        {
          "output_type": "execute_result",
          "data": {
            "text/plain": [
              "(1074,)"
            ]
          },
          "metadata": {
            "tags": []
          },
          "execution_count": 69
        }
      ]
    },
    {
      "cell_type": "code",
      "metadata": {
        "id": "F86Sb8txqEb3",
        "colab_type": "code",
        "colab": {
          "base_uri": "https://localhost:8080/",
          "height": 34
        },
        "outputId": "fed4b604-0e34-44e8-b35e-fe51c514fb6f"
      },
      "source": [
        "test_target.shape"
      ],
      "execution_count": 70,
      "outputs": [
        {
          "output_type": "execute_result",
          "data": {
            "text/plain": [
              "(715,)"
            ]
          },
          "metadata": {
            "tags": []
          },
          "execution_count": 70
        }
      ]
    },
    {
      "cell_type": "code",
      "metadata": {
        "id": "Pak52NHNyYH4",
        "colab_type": "code",
        "colab": {}
      },
      "source": [
        "n_train = train_data.shape[0]\n",
        "train_data = train_data[:n_train, :]\n",
        "train_target = train_target[:n_train]"
      ],
      "execution_count": 71,
      "outputs": []
    },
    {
      "cell_type": "code",
      "metadata": {
        "id": "QSMZqdE_Rnu6",
        "colab_type": "code",
        "colab": {
          "base_uri": "https://localhost:8080/",
          "height": 207
        },
        "outputId": "d9708fcc-2a4b-4eda-9d4a-a84dcdb113d1"
      },
      "source": [
        "model = Sequential()\n",
        "model.add(Embedding(max_features, 256))\n",
        "model.add(LSTM(128, dropout=0.5, recurrent_dropout=0.5))\n",
        "model.add(Dense(1, activation='softmax'))\n",
        "model.compile(loss='binary_crossentropy',\n",
        "             optimizer='rmsprop',\n",
        "              metrics=['accuracy'])\n",
        "# model.fit(train_data, train_labels,\n",
        "#           batch_size=batch_size,\n",
        "#           epochs=1,\n",
        "# validation_data=(test_data, train_labels))\n",
        "history = model.fit(train_data, train_target, epochs=2, verbose=True, validation_data=(train_data, train_target), batch_size=32)\n",
        "score, accuracy = model.evaluate(test_data, test_target, batch_size=batch_size)\n",
        "print('Test score:', score)\n",
        "print('Test accuracy:', accuracy)\n",
        "# print(train_data.shape)"
      ],
      "execution_count": 49,
      "outputs": [
        {
          "output_type": "stream",
          "text": [
            "/usr/local/lib/python3.6/dist-packages/tensorflow/python/framework/indexed_slices.py:434: UserWarning: Converting sparse IndexedSlices to a dense Tensor of unknown shape. This may consume a large amount of memory.\n",
            "  \"Converting sparse IndexedSlices to a dense Tensor of unknown shape. \"\n"
          ],
          "name": "stderr"
        },
        {
          "output_type": "stream",
          "text": [
            "Train on 1074 samples, validate on 1074 samples\n",
            "Epoch 1/2\n",
            "1074/1074 [==============================] - 182s 169ms/step - loss: 6.8528 - accuracy: 0.5531 - val_loss: 6.8153 - val_accuracy: 0.5531\n",
            "Epoch 2/2\n",
            "1074/1074 [==============================] - 176s 164ms/step - loss: 6.8528 - accuracy: 0.5531 - val_loss: 6.8153 - val_accuracy: 0.5531\n",
            "715/715 [==============================] - 8s 11ms/step\n",
            "Test score: 6.803506473727993\n",
            "Test accuracy: 0.5538461804389954\n"
          ],
          "name": "stdout"
        }
      ]
    },
    {
      "cell_type": "code",
      "metadata": {
        "id": "a3NjJWl1qJWC",
        "colab_type": "code",
        "colab": {
          "base_uri": "https://localhost:8080/",
          "height": 573
        },
        "outputId": "6ffa708d-58f3-42f0-b609-4942726b60a1"
      },
      "source": [
        "plt.plot(history.history['accuracy'])\n",
        "plt.plot(history.history['val_accuracy'])\n",
        "plt.title('Model Accuracy')\n",
        "plt.ylabel('Accuracy')\n",
        "plt.xlabel('Epoch')\n",
        "plt.legend(['train_data', 'test_data'], loc='upper left')\n",
        "plt.show()\n",
        "\n",
        "# For Loss Values\n",
        "plt.plot(history.history['loss'])\n",
        "plt.plot(history.history['val_loss'])\n",
        "plt.title('Model Loss')\n",
        "plt.ylabel('Loss')\n",
        "plt.xlabel('Epoch')\n",
        "plt.legend(['train_data', 'test_data'], loc='upper left')\n",
        "plt.show()"
      ],
      "execution_count": 50,
      "outputs": [
        {
          "output_type": "display_data",
          "data": {
            "image/png": "[encoded data removed]",
            "text/plain": [
              "<Figure size 432x288 with 1 Axes>"
            ]
          },
          "metadata": {
            "tags": [],
            "needs_background": "light"
          }
        },
        {
          "output_type": "display_data",
          "data": {
            "image/png": "[encoded data removed]",
            "text/plain": [
              "<Figure size 432x288 with 1 Axes>"
            ]
          },
          "metadata": {
            "tags": [],
            "needs_background": "light"
          }
        }
      ]
    },
    {
      "cell_type": "code",
      "metadata": {
        "id": "uI4EoQseYQau",
        "colab_type": "code",
        "colab": {
          "base_uri": "https://localhost:8080/",
          "height": 811
        },
        "outputId": "edea5e37-b0e1-4fe8-fd93-af5e33ebf459"
      },
      "source": [
        "from keras.models import Sequential\n",
        "from keras import layers\n",
        "from keras.preprocessing.text import Tokenizer\n",
        "import pandas as pd\n",
        "from sklearn import preprocessing\n",
        "from sklearn.model_selection import train_test_split\n",
        "import matplotlib.pyplot as plt\n",
        "from sklearn.datasets import fetch_20newsgroups\n",
        "from keras.layers.embeddings import Embedding\n",
        "from keras.layers import Flatten\n",
        "\n",
        "\n",
        "twenty_train = fetch_20newsgroups(subset='train', shuffle=True)\n",
        "y = twenty_train.target\n",
        "sentences = twenty_train.data\n",
        "\n",
        "max_review_len = max([len(s.split()) for s in sentences])\n",
        "\n",
        "\n",
        "tokenizer = Tokenizer(num_words=max_review_len)\n",
        "tokenizer.fit_on_texts(sentences)\n",
        "\n",
        "sentences = tokenizer.texts_to_matrix(sentences)\n",
        "\n",
        "le = preprocessing.LabelEncoder()\n",
        "y = le.fit_transform(y)\n",
        "\n",
        "X_train, X_test, y_train, y_test = train_test_split(sentences, y, test_size=0.25, random_state=1000)\n",
        "\n",
        "# Build model\n",
        "model = Sequential()\n",
        "model.add(layers.Dense(300, input_dim=max_review_len, activation='relu'))\n",
        "model.add(layers.Dense(20,activation='softmax'))\n",
        "model.compile(loss='sparse_categorical_crossentropy', optimizer='adam', metrics=['acc'])\n",
        "history = model.fit(X_train, y_train, epochs=5, verbose=True, validation_data=(X_test, y_test), batch_size=256)\n",
        "\n",
        "# Output\n",
        "loss, accuracy = model.evaluate(X_test, y_test)\n",
        "print(\"Loss: {}\".format(loss))\n",
        "print(\"Accuracy: {}\".format(accuracy))\n",
        "\n",
        "# For Accuracy Values\n",
        "plt.plot(history.history['acc'])\n",
        "plt.plot(history.history['val_acc'])\n",
        "plt.title('Model Accuracy')\n",
        "plt.ylabel('Accuracy')\n",
        "plt.xlabel('Epoch')\n",
        "plt.legend(['train', 'test'], loc='upper left')\n",
        "plt.show()\n",
        "\n",
        "# For Loss Values\n",
        "plt.plot(history.history['loss'])\n",
        "plt.plot(history.history['val_loss'])\n",
        "plt.title('Model Loss')\n",
        "plt.ylabel('Loss')\n",
        "plt.xlabel('Epoch')\n",
        "plt.legend(['train', 'test'], loc='upper left')\n",
        "plt.show()"
      ],
      "execution_count": 52,
      "outputs": [
        {
          "output_type": "stream",
          "text": [
            "Train on 8485 samples, validate on 2829 samples\n",
            "Epoch 1/5\n",
            "8485/8485 [==============================] - 1s 96us/step - loss: 1.6697 - acc: 0.6751 - val_loss: 0.7319 - val_acc: 0.8706\n",
            "Epoch 2/5\n",
            "8485/8485 [==============================] - 1s 91us/step - loss: 0.3676 - acc: 0.9490 - val_loss: 0.4576 - val_acc: 0.9056\n",
            "Epoch 3/5\n",
            "8485/8485 [==============================] - 1s 86us/step - loss: 0.1645 - acc: 0.9833 - val_loss: 0.3918 - val_acc: 0.9127\n",
            "Epoch 4/5\n",
            "8485/8485 [==============================] - 1s 87us/step - loss: 0.0880 - acc: 0.9952 - val_loss: 0.3613 - val_acc: 0.9169\n",
            "Epoch 5/5\n",
            "8485/8485 [==============================] - 1s 87us/step - loss: 0.0524 - acc: 0.9984 - val_loss: 0.3468 - val_acc: 0.9166\n",
            "2829/2829 [==============================] - 0s 87us/step\n",
            "Loss: 0.34681137222711084\n",
            "Accuracy: 0.9165782928466797\n"
          ],
          "name": "stdout"
        },
        {
          "output_type": "display_data",
          "data": {
            "image/png": "[encoded data removed]",
            "text/plain": [
              "<Figure size 432x288 with 1 Axes>"
            ]
          },
          "metadata": {
            "tags": [],
            "needs_background": "light"
          }
        },
        {
          "output_type": "display_data",
          "data": {
            "image/png": "[encoded data removed]",
            "text/plain": [
              "<Figure size 432x288 with 1 Axes>"
            ]
          },
          "metadata": {
            "tags": [],
            "needs_background": "light"
          }
        }
      ]
    }
  ]
}